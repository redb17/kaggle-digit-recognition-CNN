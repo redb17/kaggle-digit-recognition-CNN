{
 "cells": [
  {
   "cell_type": "code",
   "execution_count": 20,
   "metadata": {},
   "outputs": [],
   "source": [
    "# KAGGLE DIGIT RECOGNITION USING CNN. \n",
    "# ACCURACY ON KAGGLE TRAINING SET 0.98860\n",
    "# ACCURACY ON CROSS VALIDATION SET : 0.99178 \n",
    "# ACCURACY ON KAGGLE TEST SET : 0.99371\n",
    "import numpy as np\n",
    "import pandas as pd\n",
    "import matplotlib.pyplot as plt\n",
    "import seaborn as sns\n",
    "import keras\n",
    "import tensorflow as tf\n",
    "\n",
    "from pandas import DataFrame as df\n",
    "from pandas import Series as sr\n",
    "from sklearn.model_selection import StratifiedShuffleSplit as strat\n",
    "\n",
    "from keras.models import Sequential, load_model\n",
    "from keras.layers import Dense, Dropout, Flatten, Conv2D, MaxPooling2D, BatchNormalization, Activation\n",
    "from keras import backend\n",
    "from keras.optimizers import RMSprop\n",
    "from keras.preprocessing.image import ImageDataGenerator\n",
    "from keras.callbacks import ReduceLROnPlateau\n",
    "\n",
    "import warnings\n",
    "warnings.filterwarnings('ignore') # IGNORE DEPRECATION (AND OTHER WARNINGS)."
   ]
  },
  {
   "cell_type": "code",
   "execution_count": 21,
   "metadata": {},
   "outputs": [],
   "source": [
    "train = pd.read_csv('train.csv')\n",
    "test = pd.read_csv('test.csv')"
   ]
  },
  {
   "cell_type": "code",
   "execution_count": 22,
   "metadata": {},
   "outputs": [],
   "source": [
    "features = train.copy()\n",
    "labels = train['label']\n",
    "test_features = test.copy()"
   ]
  },
  {
   "cell_type": "code",
   "execution_count": 23,
   "metadata": {
    "scrolled": true
   },
   "outputs": [
    {
     "data": {
      "text/html": [
       "<div>\n",
       "<style scoped>\n",
       "    .dataframe tbody tr th:only-of-type {\n",
       "        vertical-align: middle;\n",
       "    }\n",
       "\n",
       "    .dataframe tbody tr th {\n",
       "        vertical-align: top;\n",
       "    }\n",
       "\n",
       "    .dataframe thead th {\n",
       "        text-align: right;\n",
       "    }\n",
       "</style>\n",
       "<table border=\"1\" class=\"dataframe\">\n",
       "  <thead>\n",
       "    <tr style=\"text-align: right;\">\n",
       "      <th></th>\n",
       "      <th>label</th>\n",
       "      <th>pixel0</th>\n",
       "      <th>pixel1</th>\n",
       "      <th>pixel2</th>\n",
       "      <th>pixel3</th>\n",
       "      <th>pixel4</th>\n",
       "      <th>pixel5</th>\n",
       "      <th>pixel6</th>\n",
       "      <th>pixel7</th>\n",
       "      <th>pixel8</th>\n",
       "      <th>...</th>\n",
       "      <th>pixel774</th>\n",
       "      <th>pixel775</th>\n",
       "      <th>pixel776</th>\n",
       "      <th>pixel777</th>\n",
       "      <th>pixel778</th>\n",
       "      <th>pixel779</th>\n",
       "      <th>pixel780</th>\n",
       "      <th>pixel781</th>\n",
       "      <th>pixel782</th>\n",
       "      <th>pixel783</th>\n",
       "    </tr>\n",
       "  </thead>\n",
       "  <tbody>\n",
       "    <tr>\n",
       "      <th>0</th>\n",
       "      <td>1</td>\n",
       "      <td>0</td>\n",
       "      <td>0</td>\n",
       "      <td>0</td>\n",
       "      <td>0</td>\n",
       "      <td>0</td>\n",
       "      <td>0</td>\n",
       "      <td>0</td>\n",
       "      <td>0</td>\n",
       "      <td>0</td>\n",
       "      <td>...</td>\n",
       "      <td>0</td>\n",
       "      <td>0</td>\n",
       "      <td>0</td>\n",
       "      <td>0</td>\n",
       "      <td>0</td>\n",
       "      <td>0</td>\n",
       "      <td>0</td>\n",
       "      <td>0</td>\n",
       "      <td>0</td>\n",
       "      <td>0</td>\n",
       "    </tr>\n",
       "    <tr>\n",
       "      <th>1</th>\n",
       "      <td>0</td>\n",
       "      <td>0</td>\n",
       "      <td>0</td>\n",
       "      <td>0</td>\n",
       "      <td>0</td>\n",
       "      <td>0</td>\n",
       "      <td>0</td>\n",
       "      <td>0</td>\n",
       "      <td>0</td>\n",
       "      <td>0</td>\n",
       "      <td>...</td>\n",
       "      <td>0</td>\n",
       "      <td>0</td>\n",
       "      <td>0</td>\n",
       "      <td>0</td>\n",
       "      <td>0</td>\n",
       "      <td>0</td>\n",
       "      <td>0</td>\n",
       "      <td>0</td>\n",
       "      <td>0</td>\n",
       "      <td>0</td>\n",
       "    </tr>\n",
       "    <tr>\n",
       "      <th>2</th>\n",
       "      <td>1</td>\n",
       "      <td>0</td>\n",
       "      <td>0</td>\n",
       "      <td>0</td>\n",
       "      <td>0</td>\n",
       "      <td>0</td>\n",
       "      <td>0</td>\n",
       "      <td>0</td>\n",
       "      <td>0</td>\n",
       "      <td>0</td>\n",
       "      <td>...</td>\n",
       "      <td>0</td>\n",
       "      <td>0</td>\n",
       "      <td>0</td>\n",
       "      <td>0</td>\n",
       "      <td>0</td>\n",
       "      <td>0</td>\n",
       "      <td>0</td>\n",
       "      <td>0</td>\n",
       "      <td>0</td>\n",
       "      <td>0</td>\n",
       "    </tr>\n",
       "    <tr>\n",
       "      <th>3</th>\n",
       "      <td>4</td>\n",
       "      <td>0</td>\n",
       "      <td>0</td>\n",
       "      <td>0</td>\n",
       "      <td>0</td>\n",
       "      <td>0</td>\n",
       "      <td>0</td>\n",
       "      <td>0</td>\n",
       "      <td>0</td>\n",
       "      <td>0</td>\n",
       "      <td>...</td>\n",
       "      <td>0</td>\n",
       "      <td>0</td>\n",
       "      <td>0</td>\n",
       "      <td>0</td>\n",
       "      <td>0</td>\n",
       "      <td>0</td>\n",
       "      <td>0</td>\n",
       "      <td>0</td>\n",
       "      <td>0</td>\n",
       "      <td>0</td>\n",
       "    </tr>\n",
       "    <tr>\n",
       "      <th>4</th>\n",
       "      <td>0</td>\n",
       "      <td>0</td>\n",
       "      <td>0</td>\n",
       "      <td>0</td>\n",
       "      <td>0</td>\n",
       "      <td>0</td>\n",
       "      <td>0</td>\n",
       "      <td>0</td>\n",
       "      <td>0</td>\n",
       "      <td>0</td>\n",
       "      <td>...</td>\n",
       "      <td>0</td>\n",
       "      <td>0</td>\n",
       "      <td>0</td>\n",
       "      <td>0</td>\n",
       "      <td>0</td>\n",
       "      <td>0</td>\n",
       "      <td>0</td>\n",
       "      <td>0</td>\n",
       "      <td>0</td>\n",
       "      <td>0</td>\n",
       "    </tr>\n",
       "  </tbody>\n",
       "</table>\n",
       "<p>5 rows × 785 columns</p>\n",
       "</div>"
      ],
      "text/plain": [
       "   label  pixel0  pixel1  pixel2  pixel3  pixel4  pixel5  pixel6  pixel7  \\\n",
       "0      1       0       0       0       0       0       0       0       0   \n",
       "1      0       0       0       0       0       0       0       0       0   \n",
       "2      1       0       0       0       0       0       0       0       0   \n",
       "3      4       0       0       0       0       0       0       0       0   \n",
       "4      0       0       0       0       0       0       0       0       0   \n",
       "\n",
       "   pixel8    ...     pixel774  pixel775  pixel776  pixel777  pixel778  \\\n",
       "0       0    ...            0         0         0         0         0   \n",
       "1       0    ...            0         0         0         0         0   \n",
       "2       0    ...            0         0         0         0         0   \n",
       "3       0    ...            0         0         0         0         0   \n",
       "4       0    ...            0         0         0         0         0   \n",
       "\n",
       "   pixel779  pixel780  pixel781  pixel782  pixel783  \n",
       "0         0         0         0         0         0  \n",
       "1         0         0         0         0         0  \n",
       "2         0         0         0         0         0  \n",
       "3         0         0         0         0         0  \n",
       "4         0         0         0         0         0  \n",
       "\n",
       "[5 rows x 785 columns]"
      ]
     },
     "execution_count": 23,
     "metadata": {},
     "output_type": "execute_result"
    }
   ],
   "source": [
    "features.head()"
   ]
  },
  {
   "cell_type": "code",
   "execution_count": 24,
   "metadata": {},
   "outputs": [
    {
     "name": "stdout",
     "output_type": "stream",
     "text": [
      "(42000, 785) (42000,)\n"
     ]
    }
   ],
   "source": [
    "print(features.shape, labels.shape)"
   ]
  },
  {
   "cell_type": "code",
   "execution_count": 25,
   "metadata": {},
   "outputs": [],
   "source": [
    "# SPLITTING ORIGINAL TRAINING DATA INTO TRAINING AND VALIDATION DATA IN A STRATIFIED MANNER.\n",
    "split = strat(test_size=0.2, random_state=42)\n",
    "for train_indices, valid_indices in split.split(features, features['label']):\n",
    "    strat_train = features.loc[ train_indices ]\n",
    "    strat_valid = features.loc[ valid_indices ]"
   ]
  },
  {
   "cell_type": "code",
   "execution_count": 26,
   "metadata": {},
   "outputs": [
    {
     "name": "stdout",
     "output_type": "stream",
     "text": [
      "DIGIT   ORIGINAL        TRAINING         VALIDATION\n",
      "0     0.09838095238095237 0.09836309523809524 0.09845238095238096\n",
      "1     0.11152380952380953 0.11151785714285714 0.11154761904761905\n",
      "2     0.09945238095238096 0.09946428571428571 0.0994047619047619\n",
      "3     0.1035952380952381 0.10360119047619047 0.10357142857142858\n",
      "4     0.09695238095238096 0.09696428571428571 0.09690476190476191\n",
      "5     0.09035714285714286 0.09035714285714286 0.09035714285714286\n",
      "6     0.0985 0.09851190476190476 0.09845238095238096\n",
      "7     0.10478571428571429 0.10479166666666667 0.10476190476190476\n",
      "8     0.09673809523809523 0.09672619047619048 0.09678571428571428\n",
      "9     0.09971428571428571 0.09970238095238096 0.09976190476190476\n"
     ]
    }
   ],
   "source": [
    "# BOTH TRAINING AND VALIDATION SETS ARE STRATIFIED.\n",
    "print('DIGIT   ORIGINAL        TRAINING         VALIDATION')\n",
    "for i in range(10) :\n",
    "    print(i, '   ', (features['label'] == i).sum() / len(features), \\\n",
    "                    (strat_train['label'] == i).sum() / len(strat_train), \\\n",
    "                    (strat_valid['label'] == i).sum() / len(strat_valid))"
   ]
  },
  {
   "cell_type": "code",
   "execution_count": 27,
   "metadata": {},
   "outputs": [],
   "source": [
    "# ONE-HOT ENCODING.\n",
    "strat_train_x = strat_train.copy()\n",
    "strat_train_x.drop(['label'], axis=1, inplace=True)\n",
    "strat_train_y = pd.get_dummies(strat_train['label'])\n",
    "\n",
    "strat_valid_x = strat_valid.copy()\n",
    "strat_valid_x.drop(['label'], axis=1, inplace=True)\n",
    "strat_valid_y = pd.get_dummies(strat_valid['label'])"
   ]
  },
  {
   "cell_type": "code",
   "execution_count": 28,
   "metadata": {},
   "outputs": [
    {
     "name": "stdout",
     "output_type": "stream",
     "text": [
      "(33600, 28, 28, 1) (33600, 10) (8400, 28, 28, 1) (8400, 10) (28000, 28, 28, 1)\n"
     ]
    }
   ],
   "source": [
    "# CONVERTING ALL DATAFRAMES TO NUMPY ARRAYS FOR FAST COMPUTATIONS.\n",
    "strat_train_x = np.array(strat_train_x).reshape(-1, 28, 28, 1)\n",
    "strat_train_y = np.array(strat_train_y)\n",
    "strat_valid_x = np.array(strat_valid_x).reshape(-1, 28, 28, 1)\n",
    "strat_valid_y = np.array(strat_valid_y)\n",
    "test_features = np.array(test_features).reshape(-1, 28, 28, 1)\n",
    "print(strat_train_x.shape, strat_train_y.shape, strat_valid_x.shape, strat_valid_y.shape, \\\n",
    "     test_features.shape)"
   ]
  },
  {
   "cell_type": "code",
   "execution_count": 29,
   "metadata": {},
   "outputs": [],
   "source": [
    "def plot_images(images, true, pred=None):\n",
    "\n",
    "    figure = plt.figure( figsize = ( 15, 15 ) )\n",
    "\n",
    "    for i in range(len(images)) :\n",
    "        ax = figure.add_subplot( 3, 3, i + 1 )\n",
    "        ax.imshow( images[i,:,:,0], cmap = 'binary' )\n",
    "        if pred is None:\n",
    "            ax.set_xlabel('True Label : {0}'.format(np.argmax(true[i])))\n",
    "        else:\n",
    "            ax.set_xlabel('True Label : {0}, Prediction : {1}'.format(true[i], pred[i]))\n",
    "        ax.set_xticks([])\n",
    "        ax.set_yticks([])"
   ]
  },
  {
   "cell_type": "code",
   "execution_count": 30,
   "metadata": {
    "scrolled": false
   },
   "outputs": [
    {
     "data": {
      "image/png": "[encoded data removed]",
      "text/plain": [
       "<Figure size 1080x1080 with 9 Axes>"
      ]
     },
     "metadata": {},
     "output_type": "display_data"
    }
   ],
   "source": [
    "# PLOTTING FIRST NINE IMAGES WITH TRUE LABELS.\n",
    "plot_images(strat_train_x[0:9, :, :, :], strat_train_y[0:9]) "
   ]
  },
  {
   "cell_type": "code",
   "execution_count": 31,
   "metadata": {},
   "outputs": [
    {
     "data": {
      "text/plain": [
       "0    4132\n",
       "1    4684\n",
       "2    4177\n",
       "3    4351\n",
       "4    4072\n",
       "5    3795\n",
       "6    4137\n",
       "7    4401\n",
       "8    4063\n",
       "9    4188\n",
       "Name: label, dtype: int64"
      ]
     },
     "execution_count": 31,
     "metadata": {},
     "output_type": "execute_result"
    }
   ],
   "source": [
    "# COUNTS OF EACH DIGIT IN THE TRAINING SET.\n",
    "label_counts = labels.value_counts()\n",
    "label_counts.sort_index(inplace=True)\n",
    "label_counts"
   ]
  },
  {
   "cell_type": "code",
   "execution_count": 32,
   "metadata": {},
   "outputs": [
    {
     "data": {
      "text/plain": [
       "<matplotlib.axes._subplots.AxesSubplot at 0xc183bbaf98>"
      ]
     },
     "execution_count": 32,
     "metadata": {},
     "output_type": "execute_result"
    },
    {
     "data": {
      "image/png": "[encoded data removed]",
      "text/plain": [
       "<Figure size 432x288 with 1 Axes>"
      ]
     },
     "metadata": {},
     "output_type": "display_data"
    }
   ],
   "source": [
    "sns.barplot(x=list(range(0,10)), y=list(label_counts))"
   ]
  },
  {
   "cell_type": "code",
   "execution_count": 33,
   "metadata": {},
   "outputs": [],
   "source": [
    "# CASTING VALUES TO FLOATS SO THAT THEY CAN BE NORMALISED.\n",
    "strat_train_x = strat_train_x.astype('float32')\n",
    "strat_valid_x = strat_valid_x.astype('float32')\n",
    "test_features = test_features.astype('float32')\n",
    "\n",
    "# NORMALISING ALL THE FEATURE VALUES.\n",
    "strat_train_x /= 255 \n",
    "strat_valid_x /= 255\n",
    "test_features /= 255"
   ]
  },
  {
   "cell_type": "code",
   "execution_count": 34,
   "metadata": {},
   "outputs": [],
   "source": [
    "# CREATING A CNN MODEL.\n",
    "model = Sequential()\n",
    "\n",
    "model.add(Conv2D(32, (3, 3), activation='relu', input_shape=(28, 28, 1), padding='same'))\n",
    "model.add(Conv2D(32, (3, 3), activation='relu', padding='same'))\n",
    "model.add(MaxPooling2D(pool_size=(2, 2)))\n",
    "model.add(Dropout(0.2))\n",
    "\n",
    "model.add(Conv2D(64, (3, 3), activation='relu', padding='same'))\n",
    "model.add(Conv2D(64, (3, 3), activation='relu', padding='same'))\n",
    "model.add(MaxPooling2D(pool_size=(2, 2)))\n",
    "model.add(Dropout(0.2))\n",
    "\n",
    "model.add(Flatten())\n",
    "\n",
    "model.add(Dense(100, activation='relu'))\n",
    "model.add(BatchNormalization())\n",
    "model.add(Dropout(0.2))\n",
    "\n",
    "model.add(Dense(10, activation='softmax'))"
   ]
  },
  {
   "cell_type": "code",
   "execution_count": 35,
   "metadata": {
    "scrolled": false
   },
   "outputs": [
    {
     "name": "stdout",
     "output_type": "stream",
     "text": [
      "_________________________________________________________________\n",
      "Layer (type)                 Output Shape              Param #   \n",
      "=================================================================\n",
      "conv2d_5 (Conv2D)            (None, 28, 28, 32)        320       \n",
      "_________________________________________________________________\n",
      "conv2d_6 (Conv2D)            (None, 28, 28, 32)        9248      \n",
      "_________________________________________________________________\n",
      "max_pooling2d_3 (MaxPooling2 (None, 14, 14, 32)        0         \n",
      "_________________________________________________________________\n",
      "dropout_4 (Dropout)          (None, 14, 14, 32)        0         \n",
      "_________________________________________________________________\n",
      "conv2d_7 (Conv2D)            (None, 14, 14, 64)        18496     \n",
      "_________________________________________________________________\n",
      "conv2d_8 (Conv2D)            (None, 14, 14, 64)        36928     \n",
      "_________________________________________________________________\n",
      "max_pooling2d_4 (MaxPooling2 (None, 7, 7, 64)          0         \n",
      "_________________________________________________________________\n",
      "dropout_5 (Dropout)          (None, 7, 7, 64)          0         \n",
      "_________________________________________________________________\n",
      "flatten_2 (Flatten)          (None, 3136)              0         \n",
      "_________________________________________________________________\n",
      "dense_3 (Dense)              (None, 100)               313700    \n",
      "_________________________________________________________________\n",
      "batch_normalization_2 (Batch (None, 100)               400       \n",
      "_________________________________________________________________\n",
      "dropout_6 (Dropout)          (None, 100)               0         \n",
      "_________________________________________________________________\n",
      "dense_4 (Dense)              (None, 10)                1010      \n",
      "=================================================================\n",
      "Total params: 380,102\n",
      "Trainable params: 379,902\n",
      "Non-trainable params: 200\n",
      "_________________________________________________________________\n"
     ]
    }
   ],
   "source": [
    "model.summary()"
   ]
  },
  {
   "cell_type": "code",
   "execution_count": 36,
   "metadata": {},
   "outputs": [],
   "source": [
    "# USING CATEGORICAL CROSS ENTROPY BECAUSE THE LABELS ARE ONE-HOT ENCODED.\n",
    "model.compile(optimizer=RMSprop(lr=0.001), loss='categorical_crossentropy', metrics=['accuracy'])"
   ]
  },
  {
   "cell_type": "code",
   "execution_count": 37,
   "metadata": {},
   "outputs": [],
   "source": [
    "# INTRODUCING SOME VARIATIONS(RANDOMLY) INTO THE NETWORK SO THE MODEL CAN GENERALISE BETTER AND \n",
    "# ALSO DO NOT OVERFIT.\n",
    "image_preprocess = ImageDataGenerator(rotation_range=10, \\\n",
    "                                     width_shift_range=0.1,\n",
    "                                     height_shift_range=0.1)\n",
    "image_preprocess.fit(strat_train_x)"
   ]
  },
  {
   "cell_type": "code",
   "execution_count": 38,
   "metadata": {},
   "outputs": [],
   "source": [
    "# DECREASING ALPHA OR LEARNING RATE BY A FACTOR OF 10 EACH TIME VALIDATION SET ACCURACY DECREASES.\n",
    "batch_size = 100\n",
    "epochs = 10\n",
    "alpha_vary = ReduceLROnPlateau(monitor='val_acc', factor=0.1, patience=1, verbose=1)"
   ]
  },
  {
   "cell_type": "code",
   "execution_count": 39,
   "metadata": {
    "scrolled": false
   },
   "outputs": [
    {
     "name": "stdout",
     "output_type": "stream",
     "text": [
      "Epoch 1/10\n",
      " - 261s - loss: 0.2764 - acc: 0.9146 - val_loss: 0.0660 - val_acc: 0.9776\n",
      "Epoch 2/10\n",
      " - 250s - loss: 0.0980 - acc: 0.9710 - val_loss: 0.0547 - val_acc: 0.9838\n",
      "Epoch 3/10\n",
      " - 252s - loss: 0.0733 - acc: 0.9771 - val_loss: 0.0361 - val_acc: 0.9892\n",
      "Epoch 4/10\n",
      " - 253s - loss: 0.0612 - acc: 0.9810 - val_loss: 0.0382 - val_acc: 0.9882\n",
      "\n",
      "Epoch 00004: ReduceLROnPlateau reducing learning rate to 0.00010000000474974513.\n",
      "Epoch 5/10\n",
      " - 258s - loss: 0.0440 - acc: 0.9862 - val_loss: 0.0305 - val_acc: 0.9908\n",
      "Epoch 6/10\n",
      " - 261s - loss: 0.0384 - acc: 0.9883 - val_loss: 0.0338 - val_acc: 0.9901\n",
      "\n",
      "Epoch 00006: ReduceLROnPlateau reducing learning rate to 1.0000000474974514e-05.\n",
      "Epoch 7/10\n",
      " - 258s - loss: 0.0344 - acc: 0.9897 - val_loss: 0.0281 - val_acc: 0.9913\n",
      "Epoch 8/10\n",
      " - 247s - loss: 0.0347 - acc: 0.9888 - val_loss: 0.0276 - val_acc: 0.9917\n",
      "Epoch 9/10\n",
      " - 256s - loss: 0.0331 - acc: 0.9897 - val_loss: 0.0268 - val_acc: 0.9917\n",
      "\n",
      "Epoch 00009: ReduceLROnPlateau reducing learning rate to 1.0000000656873453e-06.\n",
      "Epoch 10/10\n",
      " - 259s - loss: 0.0344 - acc: 0.9886 - val_loss: 0.0270 - val_acc: 0.9918\n"
     ]
    },
    {
     "data": {
      "text/plain": [
       "<keras.callbacks.History at 0xc180f8ecc0>"
      ]
     },
     "execution_count": 39,
     "metadata": {},
     "output_type": "execute_result"
    }
   ],
   "source": [
    "# TRAINING THE MODEL.\n",
    "model.fit_generator(image_preprocess.flow(strat_train_x, strat_train_y, batch_size=batch_size), \\\n",
    "                    steps_per_epoch=strat_train_x.shape[0] // batch_size, \\\n",
    "                    callbacks=[alpha_vary], \\\n",
    "                    validation_data=(strat_valid_x, strat_valid_y), \\\n",
    "                    epochs=epochs, \\\n",
    "                    verbose=2)"
   ]
  },
  {
   "cell_type": "code",
   "execution_count": 40,
   "metadata": {},
   "outputs": [
    {
     "name": "stdout",
     "output_type": "stream",
     "text": [
      "valid loss: 0.027003438824072613\n",
      "valid accuracy: 0.9917857142857143\n"
     ]
    }
   ],
   "source": [
    "# LOSS VALUE AND ACCURACY ON VALIDATION SET.\n",
    "score = model.evaluate(strat_valid_x, strat_valid_y, verbose=0)\n",
    "print('valid loss:', score[0])\n",
    "print('valid accuracy:', score[1])"
   ]
  },
  {
   "cell_type": "code",
   "execution_count": 41,
   "metadata": {},
   "outputs": [],
   "source": [
    "# PREDICTION ON KAGGLE TEST SET AND CONVERTING PROBABILITIES(AFTER SOFTMAX FUNCTION) TO CLASSES.\n",
    "pred = np.argmax(model.predict(test_features), axis=1)"
   ]
  },
  {
   "cell_type": "code",
   "execution_count": 43,
   "metadata": {},
   "outputs": [],
   "source": [
    "# WRITING TO A CSV FILE.\n",
    "ids = range(1, len(pred)+1)\n",
    "output = pd.DataFrame({\"ImageId\": ids , \"Label\": pred })\n",
    "output.to_csv('output_cnn.csv', index=False)"
   ]
  },
  {
   "cell_type": "code",
   "execution_count": 46,
   "metadata": {},
   "outputs": [],
   "source": [
    "# SAVING MODEL.\n",
    "model.save('Digit_Recognition_Kaggle_CNN_099371_Model.h5')"
   ]
  }
 ],
 "metadata": {
  "kernelspec": {
   "display_name": "Python 3",
   "language": "python",
   "name": "python3"
  },
  "language_info": {
   "codemirror_mode": {
    "name": "ipython",
    "version": 3
   },
   "file_extension": ".py",
   "mimetype": "text/x-python",
   "name": "python",
   "nbconvert_exporter": "python",
   "pygments_lexer": "ipython3",
   "version": "3.6.5"
  }
 },
 "nbformat": 4,
 "nbformat_minor": 2
}
